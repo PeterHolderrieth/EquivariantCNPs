{
 "metadata": {
  "language_info": {
   "codemirror_mode": {
    "name": "ipython",
    "version": 3
   },
   "file_extension": ".py",
   "mimetype": "text/x-python",
   "name": "python",
   "nbconvert_exporter": "python",
   "pygments_lexer": "ipython3",
   "version": "3.8.3-final"
  },
  "orig_nbformat": 2,
  "kernelspec": {
   "name": "python_defaultSpec_1596370104133",
   "display_name": "Python 3.8.3 64-bit ('Equivariant_CNPs': conda)"
  }
 },
 "nbformat": 4,
 "nbformat_minor": 2,
 "cells": [
  {
   "cell_type": "code",
   "execution_count": 1,
   "metadata": {},
   "outputs": [],
   "source": [
    "import pandas as pd\n"
   ]
  },
  {
   "cell_type": "code",
   "execution_count": 33,
   "metadata": {
    "tags": []
   },
   "outputs": [],
   "source": [
    "#Split the longitude , latitude and the value in different columns:\n",
    "with open('Data/test.csv', 'r') as f_in, open('Data/test_low_res.csv', 'w') as f_out:\n",
    "    head=next(f_in).replace(\" \",\"\")\n",
    "    f_out.write(head)\n",
    "    [f_out.write(','.join(line.split()) + '\\n') for line in f_in if line[:8]!=\"Latitude\"]"
   ]
  },
  {
   "cell_type": "code",
   "execution_count": 34,
   "metadata": {
    "tags": []
   },
   "outputs": [],
   "source": [
    "data=pd.read_csv(\"Data/test_low_res.csv\",delimiter=\",\")"
   ]
  },
  {
   "cell_type": "code",
   "execution_count": 37,
   "metadata": {},
   "outputs": [],
   "source": [
    "red_grid=(data.Longitude%1==0)&(data.Latitude%1==0)"
   ]
  },
  {
   "cell_type": "code",
   "execution_count": 59,
   "metadata": {},
   "outputs": [],
   "source": [
    "red_grid_data=data[red_grid]"
   ]
  },
  {
   "cell_type": "code",
   "execution_count": 84,
   "metadata": {
    "tags": []
   },
   "outputs": [],
   "source": [
    "date=red_grid_data.validityDate[0]\n",
    "time=red_grid_data.validityTime[0]\n",
    "data_single_time=red_grid_data[(red_grid_data.validityTime==time)&(red_grid_data.validityDate==date)].reset_index()"
   ]
  },
  {
   "cell_type": "code",
   "execution_count": 85,
   "metadata": {
    "tags": []
   },
   "outputs": [
    {
     "output_type": "stream",
     "name": "stdout",
     "text": "Size of one data reduced data point\n"
    },
    {
     "output_type": "execute_result",
     "data": {
      "text/plain": "<bound method DataFrame.count of      index  Latitude  Longitude         Value  dataDate  dataTime  \\\n0        0      45.0     -111.0      0.226929  19891231         0   \n1       10      45.0     -110.0      0.893921  19891231         0   \n2       20      45.0     -109.0      0.139038  19891231         0   \n3       30      45.0     -108.0      0.263062  19891231         0   \n4       40      45.0     -107.0     -1.216431  19891231         0   \n..     ...       ...        ...           ...       ...       ...   \n643  55363      37.0      -98.0  97238.789062  19891231         0   \n644  55373      37.0      -97.0  97651.789062  19891231         0   \n645  55383      37.0      -96.0  98721.789062  19891231         0   \n646  55393      37.0      -95.0  98732.789062  19891231         0   \n647  55403      37.0      -94.0  97131.789062  19891231         0   \n\n     validityDate  validityTime shortName  \n0        19900101             0       10u  \n1        19900101             0       10u  \n2        19900101             0       10u  \n3        19900101             0       10u  \n4        19900101             0       10u  \n..            ...           ...       ...  \n643      19900101             0        sp  \n644      19900101             0        sp  \n645      19900101             0        sp  \n646      19900101             0        sp  \n647      19900101             0        sp  \n\n[648 rows x 9 columns]>"
     },
     "metadata": {},
     "execution_count": 85
    }
   ],
   "source": [
    "#Measure the size of one single observation:\n",
    "print(\"Size of one data reduced data point\")\n",
    "data_single_time.count"
   ]
  },
  {
   "cell_type": "code",
   "execution_count": 87,
   "metadata": {},
   "outputs": [],
   "source": [
    "df_wind_u=data_single_time[data_single_time.shortName==\"10u\"].reset_index()\n",
    "df_wind_v=data_single_time[data_single_time.shortName==\"10v\"].reset_index()\n",
    "df_temp=data_single_time[data_single_time.shortName==\"2t\"].reset_index()\n",
    "df_sp=data_single_time[data_single_time.shortName==\"sp\"].reset_index()"
   ]
  },
  {
   "cell_type": "code",
   "execution_count": 88,
   "metadata": {},
   "outputs": [
    {
     "output_type": "execute_result",
     "data": {
      "text/plain": "     level_0  index  Latitude  Longitude       Value  dataDate  dataTime  \\\n0        324  27702      45.0     -111.0  264.130859  19891231         0   \n1        325  27712      45.0     -110.0  261.908203  19891231         0   \n2        326  27722      45.0     -109.0  267.564453  19891231         0   \n3        327  27732      45.0     -108.0  266.138672  19891231         0   \n4        328  27742      45.0     -107.0  266.048828  19891231         0   \n..       ...    ...       ...        ...         ...       ...       ...   \n157      481  41512      37.0      -98.0  275.431641  19891231         0   \n158      482  41522      37.0      -97.0  275.126953  19891231         0   \n159      483  41532      37.0      -96.0  275.314453  19891231         0   \n160      484  41542      37.0      -95.0  274.822266  19891231         0   \n161      485  41552      37.0      -94.0  273.916016  19891231         0   \n\n     validityDate  validityTime shortName  \n0        19900101             0        2t  \n1        19900101             0        2t  \n2        19900101             0        2t  \n3        19900101             0        2t  \n4        19900101             0        2t  \n..            ...           ...       ...  \n157      19900101             0        2t  \n158      19900101             0        2t  \n159      19900101             0        2t  \n160      19900101             0        2t  \n161      19900101             0        2t  \n\n[162 rows x 10 columns]",
      "text/html": "<div>\n<style scoped>\n    .dataframe tbody tr th:only-of-type {\n        vertical-align: middle;\n    }\n\n    .dataframe tbody tr th {\n        vertical-align: top;\n    }\n\n    .dataframe thead th {\n        text-align: right;\n    }\n</style>\n<table border=\"1\" class=\"dataframe\">\n  <thead>\n    <tr style=\"text-align: right;\">\n      <th></th>\n      <th>level_0</th>\n      <th>index</th>\n      <th>Latitude</th>\n      <th>Longitude</th>\n      <th>Value</th>\n      <th>dataDate</th>\n      <th>dataTime</th>\n      <th>validityDate</th>\n      <th>validityTime</th>\n      <th>shortName</th>\n    </tr>\n  </thead>\n  <tbody>\n    <tr>\n      <th>0</th>\n      <td>324</td>\n      <td>27702</td>\n      <td>45.0</td>\n      <td>-111.0</td>\n      <td>264.130859</td>\n      <td>19891231</td>\n      <td>0</td>\n      <td>19900101</td>\n      <td>0</td>\n      <td>2t</td>\n    </tr>\n    <tr>\n      <th>1</th>\n      <td>325</td>\n      <td>27712</td>\n      <td>45.0</td>\n      <td>-110.0</td>\n      <td>261.908203</td>\n      <td>19891231</td>\n      <td>0</td>\n      <td>19900101</td>\n      <td>0</td>\n      <td>2t</td>\n    </tr>\n    <tr>\n      <th>2</th>\n      <td>326</td>\n      <td>27722</td>\n      <td>45.0</td>\n      <td>-109.0</td>\n      <td>267.564453</td>\n      <td>19891231</td>\n      <td>0</td>\n      <td>19900101</td>\n      <td>0</td>\n      <td>2t</td>\n    </tr>\n    <tr>\n      <th>3</th>\n      <td>327</td>\n      <td>27732</td>\n      <td>45.0</td>\n      <td>-108.0</td>\n      <td>266.138672</td>\n      <td>19891231</td>\n      <td>0</td>\n      <td>19900101</td>\n      <td>0</td>\n      <td>2t</td>\n    </tr>\n    <tr>\n      <th>4</th>\n      <td>328</td>\n      <td>27742</td>\n      <td>45.0</td>\n      <td>-107.0</td>\n      <td>266.048828</td>\n      <td>19891231</td>\n      <td>0</td>\n      <td>19900101</td>\n      <td>0</td>\n      <td>2t</td>\n    </tr>\n    <tr>\n      <th>...</th>\n      <td>...</td>\n      <td>...</td>\n      <td>...</td>\n      <td>...</td>\n      <td>...</td>\n      <td>...</td>\n      <td>...</td>\n      <td>...</td>\n      <td>...</td>\n      <td>...</td>\n    </tr>\n    <tr>\n      <th>157</th>\n      <td>481</td>\n      <td>41512</td>\n      <td>37.0</td>\n      <td>-98.0</td>\n      <td>275.431641</td>\n      <td>19891231</td>\n      <td>0</td>\n      <td>19900101</td>\n      <td>0</td>\n      <td>2t</td>\n    </tr>\n    <tr>\n      <th>158</th>\n      <td>482</td>\n      <td>41522</td>\n      <td>37.0</td>\n      <td>-97.0</td>\n      <td>275.126953</td>\n      <td>19891231</td>\n      <td>0</td>\n      <td>19900101</td>\n      <td>0</td>\n      <td>2t</td>\n    </tr>\n    <tr>\n      <th>159</th>\n      <td>483</td>\n      <td>41532</td>\n      <td>37.0</td>\n      <td>-96.0</td>\n      <td>275.314453</td>\n      <td>19891231</td>\n      <td>0</td>\n      <td>19900101</td>\n      <td>0</td>\n      <td>2t</td>\n    </tr>\n    <tr>\n      <th>160</th>\n      <td>484</td>\n      <td>41542</td>\n      <td>37.0</td>\n      <td>-95.0</td>\n      <td>274.822266</td>\n      <td>19891231</td>\n      <td>0</td>\n      <td>19900101</td>\n      <td>0</td>\n      <td>2t</td>\n    </tr>\n    <tr>\n      <th>161</th>\n      <td>485</td>\n      <td>41552</td>\n      <td>37.0</td>\n      <td>-94.0</td>\n      <td>273.916016</td>\n      <td>19891231</td>\n      <td>0</td>\n      <td>19900101</td>\n      <td>0</td>\n      <td>2t</td>\n    </tr>\n  </tbody>\n</table>\n<p>162 rows × 10 columns</p>\n</div>"
     },
     "metadata": {},
     "execution_count": 88
    }
   ],
   "source": [
    "#Rename the value column and remove the short name:\n"
   ]
  },
  {
   "cell_type": "code",
   "execution_count": null,
   "metadata": {},
   "outputs": [],
   "source": [
    "#Merge the files:"
   ]
  },
  {
   "cell_type": "code",
   "execution_count": null,
   "metadata": {},
   "outputs": [],
   "source": [
    "#Extract wind direction:"
   ]
  }
 ]
}