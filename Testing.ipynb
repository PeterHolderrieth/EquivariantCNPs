{
 "metadata": {
  "language_info": {
   "codemirror_mode": {
    "name": "ipython",
    "version": 3
   },
   "file_extension": ".py",
   "mimetype": "text/x-python",
   "name": "python",
   "nbconvert_exporter": "python",
   "pygments_lexer": "ipython3",
   "version": "3.8.3-final"
  },
  "orig_nbformat": 2,
  "kernelspec": {
   "name": "python_defaultSpec_1598525415140",
   "display_name": "Python 3"
  }
 },
 "nbformat": 4,
 "nbformat_minor": 2,
 "cells": [
  {
   "cell_type": "code",
   "execution_count": 2,
   "metadata": {
    "tags": []
   },
   "outputs": [],
   "source": [
    "#LIBRARIES:\n",
    "#Tensors:\n",
    "\n",
    "import numpy as np\n",
    "import math\n",
    "import torch\n",
    "import torch.nn as nn\n",
    "import torch.nn.functional as F\n",
    "import torch.utils.data as utils\n",
    "\n",
    "#E(2)-steerable CNNs - librar\"y:\n",
    "from e2cnn import gspaces    \n",
    "from e2cnn import nn as G_CNN   \n",
    "import e2cnn\n",
    "\n",
    "#Plotting in 2d/3d:\n",
    "import matplotlib.pyplot as plt\n",
    "from mpl_toolkits.mplot3d import Axes3D\n",
    "from matplotlib.patches import Ellipse\n",
    "from matplotlib.colors import Normalize\n",
    "import matplotlib.cm as cm\n",
    "\n",
    "#Tools:\n",
    "import datetime\n",
    "import sys\n",
    "import warnings\n",
    "warnings.filterwarnings(\"ignore\", category=UserWarning)\n",
    "\n",
    "#Own files:\n",
    "import Kernel_and_GP_tools as GP\n",
    "import My_Tools\n",
    "import Architectures\n",
    "import EquivDeepSets\n",
    "import Cov_Converter\n",
    "import EquivCNP"
   ]
  },
  {
   "cell_type": "code",
   "execution_count": 4,
   "metadata": {
    "tags": []
   },
   "outputs": [
    {
     "output_type": "stream",
     "name": "stdout",
     "text": "False\n"
    },
    {
     "output_type": "execute_result",
     "data": {
      "text/plain": "False"
     },
     "metadata": {},
     "execution_count": 4
    }
   ],
   "source": [
    "\n",
    "dim_cov_est=4\n",
    "N=10\n",
    "X=torch.randn((200,100,dim_cov_est))\n",
    "S=cov_converter(X,dim_cov_est=dim_cov_est)\n",
    "G_act=gspaces.Rot2dOnR2(N=N)\n",
    "fib_rep=get_pre_cov_rep(G_act,dim_cov_est)\n",
    "out_rep=G_act.irrep(1)\n",
    "for g in G_act.testing_elements:\n",
    "    fib_mat=torch.tensor(fib_rep.representation(g),dtype=torch.get_default_dtype())\n",
    "    out_mat=torch.tensor(out_rep.representation(g),dtype=torch.get_default_dtype())\n",
    "    X_trans=torch.matmul(X,fib_mat.t())\n",
    "    S_trans=cov_converter(X_trans,dim_cov_est=dim_cov_est)\n",
    "    trans_S=torch.matmul(out_mat,torch.matmul(S,out_mat.t()))\n",
    "    print(torch.abs(S_trans-trans_S).mean())"
   ]
  },
  {
   "cell_type": "code",
   "execution_count": null,
   "metadata": {},
   "outputs": [],
   "source": []
  },
  {
   "cell_type": "code",
   "execution_count": null,
   "metadata": {},
   "outputs": [],
   "source": []
  }
 ]
}